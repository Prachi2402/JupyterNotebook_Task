{
 "cells": [
  {
   "cell_type": "markdown",
   "id": "66d73a8b-25e4-4a23-8a82-459cfeb7a1b4",
   "metadata": {},
   "source": [
    "<h1>Data Science Tools and Ecosystem<h1>"
   ]
  },
  {
   "cell_type": "markdown",
   "id": "cb39fac2-f9be-46c5-a10e-093d8dc1eb98",
   "metadata": {},
   "source": [
    "In this notebook, Data Science Tools and Ecosystem are summarized."
   ]
  },
  {
   "cell_type": "markdown",
   "id": "c2ea0c42-9054-441c-87c1-4ff11d34b27c",
   "metadata": {},
   "source": [
    "Some of the popular languages that Data Scientists use are:\n",
    "1. Python \n",
    "2. R\n",
    "3. SQL"
   ]
  },
  {
   "cell_type": "markdown",
   "id": "256f4c08-3f1e-41c2-b482-078c5f87aa1b",
   "metadata": {},
   "source": [
    "Some of the commonly used libraries used by Data Scientists include:\n",
    "1. NumPy\n",
    "2. Pandas\n",
    "3. Skikit-Learn\n",
    "4. Matplotlib"
   ]
  },
  {
   "cell_type": "markdown",
   "id": "76f57d03-bcd7-41bb-b0ad-3a2a25519198",
   "metadata": {},
   "source": [
    "| Data Science Tools |\n",
    "|--------------------|\n",
    "| Jupyter Notebook   |\n",
    "| RStudio            |\n",
    "| Orange             |"
   ]
  },
  {
   "cell_type": "markdown",
   "id": "17015369-9b87-4fdd-bbe2-91f8139af71b",
   "metadata": {},
   "source": [
    "<h3>Below are a few examples of evaluating arithmetic expressions in Python:<h3>\n",
    "\n",
    "\n",
    "Using built-in arithmetic operators: <br>\n",
    "Python supports standard arithmetic operators for evaluating expressions.\n",
    "\n",
    "a = 2 <br>\n",
    "b = 3 <br>\n",
    "c = a + b * 4 <br>\n",
    "print(c)  # Output: 14"
   ]
  },
  {
   "cell_type": "code",
   "execution_count": 1,
   "id": "df57ced8-65b3-46c8-8cee-64e2aa1fcbfe",
   "metadata": {},
   "outputs": [
    {
     "name": "stdout",
     "output_type": "stream",
     "text": [
      "17\n"
     ]
    }
   ],
   "source": [
    "#This a simple arithmetic expression to mutiply then add integers\n",
    "print((3*4)+5)"
   ]
  },
  {
   "cell_type": "code",
   "execution_count": 2,
   "id": "d27e029d-d369-4f76-a19d-ec68b5c79acc",
   "metadata": {},
   "outputs": [
    {
     "name": "stdout",
     "output_type": "stream",
     "text": [
      "3.3333333333333335\n"
     ]
    }
   ],
   "source": [
    "#This will convert 200 minutes to hours by diving by 60\n",
    "time_in_minutes = 200\n",
    "time_in_hours = time_in_minutes/60\n",
    "print (time_in_hours)"
   ]
  },
  {
   "cell_type": "markdown",
   "id": "81900170",
   "metadata": {},
   "source": [
    "**Objectives:**\n",
    "\n",
    "1. List popular languages for Data Science <br>\n",
    "2. Data Science Tools <br>\n",
    "3. Commonly used libraries used by Data Scientists"
   ]
  },
  {
   "cell_type": "markdown",
   "id": "046173d4",
   "metadata": {},
   "source": [
    "<h2>Author<h2>\n",
    "Prachi Jajoo"
   ]
  }
 ],
 "metadata": {
  "kernelspec": {
   "display_name": "Python 3",
   "language": "python",
   "name": "python3"
  },
  "language_info": {
   "codemirror_mode": {
    "name": "ipython",
    "version": 3
   },
   "file_extension": ".py",
   "mimetype": "text/x-python",
   "name": "python",
   "nbconvert_exporter": "python",
   "pygments_lexer": "ipython3",
   "version": "3.11.4"
  }
 },
 "nbformat": 4,
 "nbformat_minor": 5
}
